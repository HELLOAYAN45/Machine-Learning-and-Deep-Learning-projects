{
  "cells": [
    {
      "cell_type": "code",
      "execution_count": null,
      "metadata": {
        "id": "X_pSIuHLZFVY"
      },
      "outputs": [],
      "source": [
        "# Cell 1: Upload the zipped dataset from your PC\n",
        "# This will open a file browser dialog. Select your 'plastic_dataset.zip' file.\n",
        "from google.colab import files\n",
        "uploaded = files.upload()"
      ]
    },
    {
      "cell_type": "code",
      "execution_count": null,
      "metadata": {
        "id": "5pMe3C61eES_"
      },
      "outputs": [],
      "source": [
        "# Cell 2: Unzip the uploaded file\n",
        "\n",
        "import os\n",
        "import zipfile\n",
        "\n",
        "# The name of your uploaded zip file\n",
        "zip_file_name = 'Plastic waste 2.v3-v1.1.yolov8.zip'\n",
        "\n",
        "# The directory where the contents will be unzipped.\n",
        "# We'll use the file name to automatically create a folder.\n",
        "data_path = f\"/content/{zip_file_name.split('.')[0]}\"\n",
        "\n",
        "# Create the directory if it doesn't exist\n",
        "os.makedirs(data_path, exist_ok=True)\n",
        "\n",
        "# Unzip the file\n",
        "with zipfile.ZipFile(zip_file_name, 'r') as zip_ref:\n",
        "    zip_ref.extractall(data_path)\n",
        "\n",
        "print(f\"Dataset successfully unzipped to {data_path}\")"
      ]
    },
    {
      "cell_type": "code",
      "source": [
        "%pip install ultralytics"
      ],
      "metadata": {
        "id": "aOyf6Cc1bSzP"
      },
      "execution_count": null,
      "outputs": []
    },
    {
      "cell_type": "code",
      "execution_count": null,
      "metadata": {
        "id": "bqJ7RLcUe3b8"
      },
      "outputs": [],
      "source": [
        "\n",
        "from ultralytics import YOLO"
      ]
    },
    {
      "cell_type": "code",
      "execution_count": null,
      "metadata": {
        "id": "5tgiIl5Re9K7"
      },
      "outputs": [],
      "source": [
        "# Load a pre-trained YOLOv8n model\n",
        "model = YOLO('yolov8n.pt')"
      ]
    },
    {
      "cell_type": "code",
      "execution_count": null,
      "metadata": {
        "id": "I-qcZQThgGCf"
      },
      "outputs": [],
      "source": [
        "import os\n",
        "print(os.listdir(\"/content\"))\n"
      ]
    },
    {
      "cell_type": "code",
      "execution_count": null,
      "metadata": {
        "id": "Vc3KWITZgT6e"
      },
      "outputs": [],
      "source": [
        "import zipfile\n",
        "\n",
        "with zipfile.ZipFile(\"/content/Plastic waste 2.v3-v1.1.yolov8.zip\", 'r') as zip_ref:\n",
        "    zip_ref.extractall(\"/content\")\n"
      ]
    },
    {
      "cell_type": "code",
      "execution_count": null,
      "metadata": {
        "id": "jyPnnBKNgaxX"
      },
      "outputs": [],
      "source": [
        "import os\n",
        "print(os.listdir(\"/content\"))\n",
        "print(os.listdir(\"/content/Plastic waste 2\"))\n"
      ]
    },
    {
      "cell_type": "code",
      "execution_count": null,
      "metadata": {
        "id": "H8Y92AEJgts1"
      },
      "outputs": [],
      "source": [
        "import yaml\n",
        "\n",
        "# Path to the dataset's own yaml (usually correct class names & nc are in there)\n",
        "dataset_yaml = \"/content/Plastic waste 2/data.yaml\"\n",
        "root_yaml = \"/content/data.yaml\"\n",
        "\n",
        "# Load the dataset yaml\n",
        "with open(dataset_yaml, \"r\") as f:\n",
        "    data = yaml.safe_load(f)\n",
        "\n",
        "# Fix the paths\n",
        "data[\"train\"] = \"/content/Plastic waste 2/train/images\"\n",
        "data[\"val\"]   = \"/content/Plastic waste 2/valid/images\"\n",
        "data[\"test\"]  = \"/content/Plastic waste 2/test/images\"\n",
        "\n",
        "# Save to root data.yaml (this is the one YOLOv8 will use)\n",
        "with open(root_yaml, \"w\") as f:\n",
        "    yaml.dump(data, f, default_flow_style=False)\n",
        "\n",
        "print(\"data.yaml updated successfully!\")\n"
      ]
    },
    {
      "cell_type": "code",
      "execution_count": null,
      "metadata": {
        "id": "CIJ5b8I0g382"
      },
      "outputs": [],
      "source": [
        "# Train the model with your dataset\n",
        "results = model.train(data='data.yaml', epochs=50, imgsz=640, batch=16)"
      ]
    },
    {
      "cell_type": "code",
      "execution_count": null,
      "metadata": {
        "id": "9VfRS4vNg-Pt"
      },
      "outputs": [],
      "source": [
        "# Cell 6: Validate the trained model\n",
        "\n",
        "# The model will automatically use the 'test' path from your data.yaml\n",
        "metrics = model.val()\n",
        "\n",
        "print(\"Validation Results:\")\n",
        "print(f\"Mean Average Precision (mAP50-95): {metrics.results_dict['metrics/mAP50-95(B)']: .4f}\")\n",
        "print(f\"Precision: {metrics.results_dict['metrics/precision(B)']: .4f}\")\n",
        "print(f\"Recall: {metrics.results_dict['metrics/recall(B)']: .4f}\")\n"
      ]
    },
    {
      "cell_type": "code",
      "source": [
        "import os\n",
        "\n",
        "for root, dirs, files in os.walk(\"runs\"):\n",
        "    for file in files:\n",
        "        if file.endswith(\".pt\"):\n",
        "            print(os.path.join(root, file))\n"
      ],
      "metadata": {
        "id": "R0YHdWc8Ls5D"
      },
      "execution_count": null,
      "outputs": []
    },
    {
      "cell_type": "code",
      "source": [
        "from google.colab import files\n",
        "files.download('runs/detect/train/weights/best.pt')\n",
        "\n"
      ],
      "metadata": {
        "id": "t6RgHW1JNm4u"
      },
      "execution_count": null,
      "outputs": []
    }
  ],
  "metadata": {
    "colab": {
      "provenance": [],
      "gpuType": "T4"
    },
    "kernelspec": {
      "display_name": "Python 3",
      "name": "python3"
    },
    "language_info": {
      "name": "python"
    },
    "accelerator": "GPU"
  },
  "nbformat": 4,
  "nbformat_minor": 0
}